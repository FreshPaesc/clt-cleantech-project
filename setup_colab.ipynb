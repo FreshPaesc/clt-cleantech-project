{
 "cells": [
  {
   "cell_type": "markdown",
   "id": "a355c669-1d0b-4a5c-97d3-8cda695ca675",
   "metadata": {
    "id": "a355c669-1d0b-4a5c-97d3-8cda695ca675"
   },
   "source": [
    "# Download data"
   ]
  },
  {
   "cell_type": "markdown",
   "id": "fc5833e1-8cca-4827-b68e-bc8d8da7f1ef",
   "metadata": {},
   "source": [
    "Make sure you have a Kaggle API-Token/username and to store them in secrets. This will prepare our data-files in `/data`."
   ]
  },
  {
   "cell_type": "code",
   "execution_count": null,
   "id": "9e1a9663-00b4-47db-966a-0fc9968b50c0",
   "metadata": {
    "id": "9e1a9663-00b4-47db-966a-0fc9968b50c0"
   },
   "outputs": [],
   "source": [
    "# install kaggle library\n",
    "!pip install -q kaggle"
   ]
  },
  {
   "cell_type": "code",
   "execution_count": null,
   "id": "1c1bdd7a-6757-4622-923a-f3eee58b189d",
   "metadata": {
    "id": "1c1bdd7a-6757-4622-923a-f3eee58b189d"
   },
   "outputs": [],
   "source": [
    "# set credentials as env variables\n",
    "from google.colab import userdata\n",
    "import os\n",
    "\n",
    "os.environ[\"KAGGLE_KEY\"] = userdata.get('KAGGLE_KEY')\n",
    "os.environ[\"KAGGLE_USERNAME\"] = userdata.get('KAGGLE_USERNAME')"
   ]
  },
  {
   "cell_type": "code",
   "execution_count": null,
   "id": "da8d6ab2-f585-4d4a-ac6d-f853606b4594",
   "metadata": {
    "colab": {
     "base_uri": "https://localhost:8080/"
    },
    "id": "da8d6ab2-f585-4d4a-ac6d-f853606b4594",
    "outputId": "d3832497-ece3-482f-a69a-ed4f616b564d"
   },
   "outputs": [],
   "source": [
    "# download media dataset\n",
    "!kaggle datasets download -d jannalipenkova/cleantech-media-dataset -p data/"
   ]
  },
  {
   "cell_type": "code",
   "execution_count": null,
   "id": "eIYeScWapP8X",
   "metadata": {
    "colab": {
     "base_uri": "https://localhost:8080/"
    },
    "id": "eIYeScWapP8X",
    "outputId": "15b0c1c6-b290-4aae-8364-f5b5a87c1bd8"
   },
   "outputs": [],
   "source": [
    "# unzip media dataset\n",
    "!unzip data/cleantech-media-dataset.zip -d data/"
   ]
  },
  {
   "cell_type": "code",
   "execution_count": null,
   "id": "NT1TkMy4pcuH",
   "metadata": {
    "colab": {
     "base_uri": "https://localhost:8080/"
    },
    "id": "NT1TkMy4pcuH",
    "outputId": "79371ddd-b5e6-4124-ee75-837f645bac90"
   },
   "outputs": [],
   "source": [
    "# download patent dataset\n",
    "!kaggle datasets download -d prakharbhandari20/cleantech-google-patent-dataset -p data/"
   ]
  },
  {
   "cell_type": "code",
   "execution_count": null,
   "id": "8eGEZzOUqQfb",
   "metadata": {
    "colab": {
     "base_uri": "https://localhost:8080/"
    },
    "id": "8eGEZzOUqQfb",
    "outputId": "60e76e10-1cdd-4e5b-81af-0671c8492889"
   },
   "outputs": [],
   "source": [
    "# unzip patent dataset\n",
    "!unzip data/cleantech-google-patent-dataset.zip -d data/"
   ]
  },
  {
   "cell_type": "code",
   "execution_count": null,
   "id": "5Wm8yiSFqZyZ",
   "metadata": {
    "colab": {
     "base_uri": "https://localhost:8080/"
    },
    "id": "5Wm8yiSFqZyZ",
    "outputId": "c0678f75-3e47-4eb7-a575-c69ec5c4116a"
   },
   "outputs": [],
   "source": [
    "# delete the zip files\n",
    "!rm data/cleantech-google-patent-dataset.zip\n",
    "!rm data/cleantech-media-dataset.zip"
   ]
  },
  {
   "cell_type": "code",
   "execution_count": null,
   "id": "fz5Zo9c7qh6n",
   "metadata": {
    "id": "fz5Zo9c7qh6n"
   },
   "outputs": [],
   "source": []
  }
 ],
 "metadata": {
  "colab": {
   "provenance": []
  },
  "kernelspec": {
   "display_name": "Python 3 (ipykernel)",
   "language": "python",
   "name": "python3"
  },
  "language_info": {
   "codemirror_mode": {
    "name": "ipython",
    "version": 3
   },
   "file_extension": ".py",
   "mimetype": "text/x-python",
   "name": "python",
   "nbconvert_exporter": "python",
   "pygments_lexer": "ipython3",
   "version": "3.9.13"
  }
 },
 "nbformat": 4,
 "nbformat_minor": 5
}
