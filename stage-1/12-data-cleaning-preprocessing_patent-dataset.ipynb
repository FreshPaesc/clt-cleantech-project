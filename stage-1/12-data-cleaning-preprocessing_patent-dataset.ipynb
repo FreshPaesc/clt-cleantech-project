{
 "cells": [
  {
   "cell_type": "markdown",
   "source": [
    "import pandas as pd\n",
    "import json"
   ],
   "metadata": {
    "collapsed": false
   },
   "id": "6dd8bbd8215e0bfa"
  },
  {
   "cell_type": "markdown",
   "id": "c4fec426-23bd-47a7-833e-663939785704",
   "metadata": {},
   "source": [
    "# Load Data"
   ]
  },
  {
   "cell_type": "markdown",
   "id": "eddb8e61-d143-41b6-956b-b983f9139070",
   "metadata": {},
   "source": [
    "Source: <https://www.kaggle.com/datasets/prakharbhandari20/cleantech-google-patent-dataset>"
   ]
  },
  {
   "cell_type": "code",
   "execution_count": 20,
   "id": "5e263eaa-390b-4564-a85e-1e4aeb450189",
   "metadata": {
    "ExecuteTime": {
     "end_time": "2024-04-27T16:02:41.706374300Z",
     "start_time": "2024-04-27T16:02:40.206993500Z"
    }
   },
   "outputs": [
    {
     "data": {
      "text/plain": "      publication_number application_number country_code  \\\n0       US-2022239235-A1  US-202217717397-A           US   \n1       US-2022239251-A1  US-202217580956-A           US   \n2          EP-4033090-A1      EP-21152924-A           EP   \n3          EP-4033090-A1      EP-21152924-A           EP   \n4         US-11396827-B2  US-202117606042-A           US   \n...                  ...                ...          ...   \n29995     CN-214835218-U  CN-202121309411-U           CN   \n29996     CN-113690940-A  CN-202111107806-A           CN   \n29997     CN-113683210-A  CN-202110998828-A           CN   \n29998     CN-113683210-A  CN-202110998828-A           CN   \n29999     CN-113682495-A  CN-202110997949-A           CN   \n\n                                         title_localized  \\\n0      [{'text': 'Adaptable DC-AC Inverter Drive Syst...   \n1      [{'text': 'System for providing the energy fro...   \n2      [{'text': 'Verfahren zum steuern einer windene...   \n3      [{'text': 'Verfahren zum steuern einer windene...   \n4      [{'text': 'Control method for optimizing solar...   \n...                                                  ...   \n29995  [{'text': '一种具有充电功能的无人机机库', 'language': 'zh', ...   \n29996  [{'text': '一种风电供电控制方法', 'language': 'zh', 'tru...   \n29997  [{'text': '一种基于无线控制的漂浮式太阳能曝气装置', 'language': '...   \n29998  [{'text': '一种基于无线控制的漂浮式太阳能曝气装置', 'language': '...   \n29999  [{'text': 'Space film satellite integrating co...   \n\n                                      abstract_localized  publication_date  \\\n0      [{'text': 'Disclosed is an adaptable DC-AC inv...          20220728   \n1      [{'text': 'In accordance with an example embod...          20220728   \n2      [{'text': 'Verfahren zum Steuern einer Windene...          20220727   \n3      [{'text': 'Verfahren zum Steuern einer Windene...          20220727   \n4      [{'text': 'A control method for optimizing a s...          20220726   \n...                                                  ...               ...   \n29995  [{'text': 'The utility model relates to an unm...          20211123   \n29996  [{'text': 'The invention provides a wind power...          20211123   \n29997  [{'text': '本发明公开了一种基于无线控制的漂浮式太阳能曝气装置，包括漂浮板、太阳能...          20211123   \n29998  [{'text': '本发明公开了一种基于无线控制的漂浮式太阳能曝气装置，包括漂浮板、太阳能...          20211123   \n29999  [{'text': 'The invention discloses a space fil...          20211123   \n\n                                                inventor  \\\n0                                                     []   \n1                                                     []   \n2      [Schaper, Ulf, von Aswege, Enno, Gerke Funcke,...   \n3      [Schaper, Ulf, von Aswege, Enno, Gerke Funcke,...   \n4                                                     []   \n...                                                  ...   \n29995  [ZHANG ANZHI, ZHANG WANYONG, HUANG HUIYONG, XU...   \n29996         [ZHANG YUCHUAN, LONG HAIYANG, TAN CUNZHEN]   \n29997                                        [An Zhixia]   \n29998                                        [An Zhixia]   \n29999  [FENG XIANGCHAO, WANG PENGFEI, LI ZHEN, HE ZEP...   \n\n                                                     cpc  \n0      [{'code': 'H02M7/5395', 'inventive': True, 'fi...  \n1      [{'code': 'H02S40/38', 'inventive': True, 'fir...  \n2      [{'code': 'F03D7/0276', 'inventive': True, 'fi...  \n3      [{'code': 'F03D7/0276', 'inventive': True, 'fi...  \n4      [{'code': 'F24S50/00', 'inventive': True, 'fir...  \n...                                                  ...  \n29995  [{'code': 'Y02E10/50', 'inventive': False, 'fi...  \n29996  [{'code': 'Y02E10/76', 'inventive': False, 'fi...  \n29997  [{'code': 'C02F2209/22', 'inventive': False, '...  \n29998  [{'code': 'C02F2209/22', 'inventive': False, '...  \n29999  [{'code': 'B64G4/00', 'inventive': True, 'firs...  \n\n[30000 rows x 8 columns]",
      "text/html": "<div>\n<style scoped>\n    .dataframe tbody tr th:only-of-type {\n        vertical-align: middle;\n    }\n\n    .dataframe tbody tr th {\n        vertical-align: top;\n    }\n\n    .dataframe thead th {\n        text-align: right;\n    }\n</style>\n<table border=\"1\" class=\"dataframe\">\n  <thead>\n    <tr style=\"text-align: right;\">\n      <th></th>\n      <th>publication_number</th>\n      <th>application_number</th>\n      <th>country_code</th>\n      <th>title_localized</th>\n      <th>abstract_localized</th>\n      <th>publication_date</th>\n      <th>inventor</th>\n      <th>cpc</th>\n    </tr>\n  </thead>\n  <tbody>\n    <tr>\n      <th>0</th>\n      <td>US-2022239235-A1</td>\n      <td>US-202217717397-A</td>\n      <td>US</td>\n      <td>[{'text': 'Adaptable DC-AC Inverter Drive Syst...</td>\n      <td>[{'text': 'Disclosed is an adaptable DC-AC inv...</td>\n      <td>20220728</td>\n      <td>[]</td>\n      <td>[{'code': 'H02M7/5395', 'inventive': True, 'fi...</td>\n    </tr>\n    <tr>\n      <th>1</th>\n      <td>US-2022239251-A1</td>\n      <td>US-202217580956-A</td>\n      <td>US</td>\n      <td>[{'text': 'System for providing the energy fro...</td>\n      <td>[{'text': 'In accordance with an example embod...</td>\n      <td>20220728</td>\n      <td>[]</td>\n      <td>[{'code': 'H02S40/38', 'inventive': True, 'fir...</td>\n    </tr>\n    <tr>\n      <th>2</th>\n      <td>EP-4033090-A1</td>\n      <td>EP-21152924-A</td>\n      <td>EP</td>\n      <td>[{'text': 'Verfahren zum steuern einer windene...</td>\n      <td>[{'text': 'Verfahren zum Steuern einer Windene...</td>\n      <td>20220727</td>\n      <td>[Schaper, Ulf, von Aswege, Enno, Gerke Funcke,...</td>\n      <td>[{'code': 'F03D7/0276', 'inventive': True, 'fi...</td>\n    </tr>\n    <tr>\n      <th>3</th>\n      <td>EP-4033090-A1</td>\n      <td>EP-21152924-A</td>\n      <td>EP</td>\n      <td>[{'text': 'Verfahren zum steuern einer windene...</td>\n      <td>[{'text': 'Verfahren zum Steuern einer Windene...</td>\n      <td>20220727</td>\n      <td>[Schaper, Ulf, von Aswege, Enno, Gerke Funcke,...</td>\n      <td>[{'code': 'F03D7/0276', 'inventive': True, 'fi...</td>\n    </tr>\n    <tr>\n      <th>4</th>\n      <td>US-11396827-B2</td>\n      <td>US-202117606042-A</td>\n      <td>US</td>\n      <td>[{'text': 'Control method for optimizing solar...</td>\n      <td>[{'text': 'A control method for optimizing a s...</td>\n      <td>20220726</td>\n      <td>[]</td>\n      <td>[{'code': 'F24S50/00', 'inventive': True, 'fir...</td>\n    </tr>\n    <tr>\n      <th>...</th>\n      <td>...</td>\n      <td>...</td>\n      <td>...</td>\n      <td>...</td>\n      <td>...</td>\n      <td>...</td>\n      <td>...</td>\n      <td>...</td>\n    </tr>\n    <tr>\n      <th>29995</th>\n      <td>CN-214835218-U</td>\n      <td>CN-202121309411-U</td>\n      <td>CN</td>\n      <td>[{'text': '一种具有充电功能的无人机机库', 'language': 'zh', ...</td>\n      <td>[{'text': 'The utility model relates to an unm...</td>\n      <td>20211123</td>\n      <td>[ZHANG ANZHI, ZHANG WANYONG, HUANG HUIYONG, XU...</td>\n      <td>[{'code': 'Y02E10/50', 'inventive': False, 'fi...</td>\n    </tr>\n    <tr>\n      <th>29996</th>\n      <td>CN-113690940-A</td>\n      <td>CN-202111107806-A</td>\n      <td>CN</td>\n      <td>[{'text': '一种风电供电控制方法', 'language': 'zh', 'tru...</td>\n      <td>[{'text': 'The invention provides a wind power...</td>\n      <td>20211123</td>\n      <td>[ZHANG YUCHUAN, LONG HAIYANG, TAN CUNZHEN]</td>\n      <td>[{'code': 'Y02E10/76', 'inventive': False, 'fi...</td>\n    </tr>\n    <tr>\n      <th>29997</th>\n      <td>CN-113683210-A</td>\n      <td>CN-202110998828-A</td>\n      <td>CN</td>\n      <td>[{'text': '一种基于无线控制的漂浮式太阳能曝气装置', 'language': '...</td>\n      <td>[{'text': '本发明公开了一种基于无线控制的漂浮式太阳能曝气装置，包括漂浮板、太阳能...</td>\n      <td>20211123</td>\n      <td>[An Zhixia]</td>\n      <td>[{'code': 'C02F2209/22', 'inventive': False, '...</td>\n    </tr>\n    <tr>\n      <th>29998</th>\n      <td>CN-113683210-A</td>\n      <td>CN-202110998828-A</td>\n      <td>CN</td>\n      <td>[{'text': '一种基于无线控制的漂浮式太阳能曝气装置', 'language': '...</td>\n      <td>[{'text': '本发明公开了一种基于无线控制的漂浮式太阳能曝气装置，包括漂浮板、太阳能...</td>\n      <td>20211123</td>\n      <td>[An Zhixia]</td>\n      <td>[{'code': 'C02F2209/22', 'inventive': False, '...</td>\n    </tr>\n    <tr>\n      <th>29999</th>\n      <td>CN-113682495-A</td>\n      <td>CN-202110997949-A</td>\n      <td>CN</td>\n      <td>[{'text': 'Space film satellite integrating co...</td>\n      <td>[{'text': 'The invention discloses a space fil...</td>\n      <td>20211123</td>\n      <td>[FENG XIANGCHAO, WANG PENGFEI, LI ZHEN, HE ZEP...</td>\n      <td>[{'code': 'B64G4/00', 'inventive': True, 'firs...</td>\n    </tr>\n  </tbody>\n</table>\n<p>30000 rows × 8 columns</p>\n</div>"
     },
     "execution_count": 20,
     "metadata": {},
     "output_type": "execute_result"
    }
   ],
   "source": [
    "#old filepath: '../data/bq-results-20240124-055833-1706076079048.json'\n",
    "filepath='C:/Users/pbrun/Downloads/bq-results-20240124-055833-1706076079048.json'\n",
    "df_google_patents = pd.read_json(filepath, lines=True)\n",
    "df_google_patents"
   ]
  },
  {
   "cell_type": "markdown",
   "id": "f442455c-a379-4975-aa80-6aa7ad6ca1e0",
   "metadata": {},
   "source": [
    "## Flatten nested data"
   ]
  },
  {
   "cell_type": "code",
   "execution_count": 21,
   "id": "b99ac943-d61e-4beb-b589-f4d0c01e62d8",
   "metadata": {
    "ExecuteTime": {
     "end_time": "2024-04-27T16:02:41.722057800Z",
     "start_time": "2024-04-27T16:02:41.706374300Z"
    }
   },
   "outputs": [],
   "source": [
    "#PB: no longer necessary because of cell below\n",
    "## flatten manually - not so elegant, but comprehensive\n",
    "\n",
    "#df_google_patents['title'] = df_google_patents.title_localized.apply(lambda x: x[0].get('text'))\n",
    "#df_google_patents['title_lang'] = df_google_patents.title_localized.apply(lambda x: x[0].get('language'))\n",
    "#df_google_patents['abstract'] = df_google_patents.abstract_localized.apply(lambda x: x[0].get('text'))\n",
    "#df_google_patents['abstract_lang'] = df_google_patents.abstract_localized.apply(lambda x: x[0].get('language'))\n",
    "#df_google_patents.head()"
   ]
  },
  {
   "cell_type": "code",
   "execution_count": 22,
   "outputs": [
    {
     "data": {
      "text/plain": "      publication_number application_number country_code  \\\n0       US-2022239235-A1  US-202217717397-A           US   \n1       US-2022239251-A1  US-202217580956-A           US   \n2          EP-4033090-A1      EP-21152924-A           EP   \n3          EP-4033090-A1      EP-21152924-A           EP   \n4         US-11396827-B2  US-202117606042-A           US   \n...                  ...                ...          ...   \n29995     CN-214835218-U  CN-202121309411-U           CN   \n29996     CN-113690940-A  CN-202111107806-A           CN   \n29997     CN-113683210-A  CN-202110998828-A           CN   \n29998     CN-113683210-A  CN-202110998828-A           CN   \n29999     CN-113682495-A  CN-202110997949-A           CN   \n\n                                         title_localized  \\\n0      [{'text': 'Adaptable DC-AC Inverter Drive Syst...   \n1      [{'text': 'System for providing the energy fro...   \n2      [{'text': 'Verfahren zum steuern einer windene...   \n3      [{'text': 'Verfahren zum steuern einer windene...   \n4      [{'text': 'Control method for optimizing solar...   \n...                                                  ...   \n29995  [{'text': '一种具有充电功能的无人机机库', 'language': 'zh', ...   \n29996  [{'text': '一种风电供电控制方法', 'language': 'zh', 'tru...   \n29997  [{'text': '一种基于无线控制的漂浮式太阳能曝气装置', 'language': '...   \n29998  [{'text': '一种基于无线控制的漂浮式太阳能曝气装置', 'language': '...   \n29999  [{'text': 'Space film satellite integrating co...   \n\n                                      abstract_localized  publication_date  \\\n0      [{'text': 'Disclosed is an adaptable DC-AC inv...          20220728   \n1      [{'text': 'In accordance with an example embod...          20220728   \n2      [{'text': 'Verfahren zum Steuern einer Windene...          20220727   \n3      [{'text': 'Verfahren zum Steuern einer Windene...          20220727   \n4      [{'text': 'A control method for optimizing a s...          20220726   \n...                                                  ...               ...   \n29995  [{'text': 'The utility model relates to an unm...          20211123   \n29996  [{'text': 'The invention provides a wind power...          20211123   \n29997  [{'text': '本发明公开了一种基于无线控制的漂浮式太阳能曝气装置，包括漂浮板、太阳能...          20211123   \n29998  [{'text': '本发明公开了一种基于无线控制的漂浮式太阳能曝气装置，包括漂浮板、太阳能...          20211123   \n29999  [{'text': 'The invention discloses a space fil...          20211123   \n\n                                                inventor  \\\n0                                                     []   \n1                                                     []   \n2      [Schaper, Ulf, von Aswege, Enno, Gerke Funcke,...   \n3      [Schaper, Ulf, von Aswege, Enno, Gerke Funcke,...   \n4                                                     []   \n...                                                  ...   \n29995  [ZHANG ANZHI, ZHANG WANYONG, HUANG HUIYONG, XU...   \n29996         [ZHANG YUCHUAN, LONG HAIYANG, TAN CUNZHEN]   \n29997                                        [An Zhixia]   \n29998                                        [An Zhixia]   \n29999  [FENG XIANGCHAO, WANG PENGFEI, LI ZHEN, HE ZEP...   \n\n                                                     cpc  \\\n0      [{'code': 'H02M7/5395', 'inventive': True, 'fi...   \n1      [{'code': 'H02S40/38', 'inventive': True, 'fir...   \n2      [{'code': 'F03D7/0276', 'inventive': True, 'fi...   \n3      [{'code': 'F03D7/0276', 'inventive': True, 'fi...   \n4      [{'code': 'F24S50/00', 'inventive': True, 'fir...   \n...                                                  ...   \n29995  [{'code': 'Y02E10/50', 'inventive': False, 'fi...   \n29996  [{'code': 'Y02E10/76', 'inventive': False, 'fi...   \n29997  [{'code': 'C02F2209/22', 'inventive': False, '...   \n29998  [{'code': 'C02F2209/22', 'inventive': False, '...   \n29999  [{'code': 'B64G4/00', 'inventive': True, 'firs...   \n\n                                                   title  \\\n0      Adaptable DC-AC Inverter Drive System and Oper...   \n1      System for providing the energy from a single ...   \n2            Method for controlling a wind energy system   \n3            Method for controlling a wind energy system   \n4      Control method for optimizing solar-to-power e...   \n...                                                  ...   \n29995  Unmanned aerial vehicle hangar with function o...   \n29996                   Wind power supply control method   \n29997  Floating solar aeration device based on wirele...   \n29998  Floating solar aeration device based on wirele...   \n29999  Space film satellite integrating communication...   \n\n                                                abstract abstract_lang  \n0      Disclosed is an adaptable DC-AC inverter syste...          [en]  \n1      In accordance with an example embodiment, a so...          [en]  \n2                                                   None      [de, de]  \n3                                                   None      [de, de]  \n4      A control method for optimizing a solar-to-pow...          [en]  \n...                                                  ...           ...  \n29995  The utility model relates to an unmanned air v...      [en, zh]  \n29996  The invention provides a wind power supply con...      [en, zh]  \n29997  The invention discloses a floating solar aerat...      [zh, en]  \n29998  The invention discloses a floating solar aerat...      [zh, en]  \n29999  The invention discloses a space film satellite...      [en, zh]  \n\n[30000 rows x 11 columns]",
      "text/html": "<div>\n<style scoped>\n    .dataframe tbody tr th:only-of-type {\n        vertical-align: middle;\n    }\n\n    .dataframe tbody tr th {\n        vertical-align: top;\n    }\n\n    .dataframe thead th {\n        text-align: right;\n    }\n</style>\n<table border=\"1\" class=\"dataframe\">\n  <thead>\n    <tr style=\"text-align: right;\">\n      <th></th>\n      <th>publication_number</th>\n      <th>application_number</th>\n      <th>country_code</th>\n      <th>title_localized</th>\n      <th>abstract_localized</th>\n      <th>publication_date</th>\n      <th>inventor</th>\n      <th>cpc</th>\n      <th>title</th>\n      <th>abstract</th>\n      <th>abstract_lang</th>\n    </tr>\n  </thead>\n  <tbody>\n    <tr>\n      <th>0</th>\n      <td>US-2022239235-A1</td>\n      <td>US-202217717397-A</td>\n      <td>US</td>\n      <td>[{'text': 'Adaptable DC-AC Inverter Drive Syst...</td>\n      <td>[{'text': 'Disclosed is an adaptable DC-AC inv...</td>\n      <td>20220728</td>\n      <td>[]</td>\n      <td>[{'code': 'H02M7/5395', 'inventive': True, 'fi...</td>\n      <td>Adaptable DC-AC Inverter Drive System and Oper...</td>\n      <td>Disclosed is an adaptable DC-AC inverter syste...</td>\n      <td>[en]</td>\n    </tr>\n    <tr>\n      <th>1</th>\n      <td>US-2022239251-A1</td>\n      <td>US-202217580956-A</td>\n      <td>US</td>\n      <td>[{'text': 'System for providing the energy fro...</td>\n      <td>[{'text': 'In accordance with an example embod...</td>\n      <td>20220728</td>\n      <td>[]</td>\n      <td>[{'code': 'H02S40/38', 'inventive': True, 'fir...</td>\n      <td>System for providing the energy from a single ...</td>\n      <td>In accordance with an example embodiment, a so...</td>\n      <td>[en]</td>\n    </tr>\n    <tr>\n      <th>2</th>\n      <td>EP-4033090-A1</td>\n      <td>EP-21152924-A</td>\n      <td>EP</td>\n      <td>[{'text': 'Verfahren zum steuern einer windene...</td>\n      <td>[{'text': 'Verfahren zum Steuern einer Windene...</td>\n      <td>20220727</td>\n      <td>[Schaper, Ulf, von Aswege, Enno, Gerke Funcke,...</td>\n      <td>[{'code': 'F03D7/0276', 'inventive': True, 'fi...</td>\n      <td>Method for controlling a wind energy system</td>\n      <td>None</td>\n      <td>[de, de]</td>\n    </tr>\n    <tr>\n      <th>3</th>\n      <td>EP-4033090-A1</td>\n      <td>EP-21152924-A</td>\n      <td>EP</td>\n      <td>[{'text': 'Verfahren zum steuern einer windene...</td>\n      <td>[{'text': 'Verfahren zum Steuern einer Windene...</td>\n      <td>20220727</td>\n      <td>[Schaper, Ulf, von Aswege, Enno, Gerke Funcke,...</td>\n      <td>[{'code': 'F03D7/0276', 'inventive': True, 'fi...</td>\n      <td>Method for controlling a wind energy system</td>\n      <td>None</td>\n      <td>[de, de]</td>\n    </tr>\n    <tr>\n      <th>4</th>\n      <td>US-11396827-B2</td>\n      <td>US-202117606042-A</td>\n      <td>US</td>\n      <td>[{'text': 'Control method for optimizing solar...</td>\n      <td>[{'text': 'A control method for optimizing a s...</td>\n      <td>20220726</td>\n      <td>[]</td>\n      <td>[{'code': 'F24S50/00', 'inventive': True, 'fir...</td>\n      <td>Control method for optimizing solar-to-power e...</td>\n      <td>A control method for optimizing a solar-to-pow...</td>\n      <td>[en]</td>\n    </tr>\n    <tr>\n      <th>...</th>\n      <td>...</td>\n      <td>...</td>\n      <td>...</td>\n      <td>...</td>\n      <td>...</td>\n      <td>...</td>\n      <td>...</td>\n      <td>...</td>\n      <td>...</td>\n      <td>...</td>\n      <td>...</td>\n    </tr>\n    <tr>\n      <th>29995</th>\n      <td>CN-214835218-U</td>\n      <td>CN-202121309411-U</td>\n      <td>CN</td>\n      <td>[{'text': '一种具有充电功能的无人机机库', 'language': 'zh', ...</td>\n      <td>[{'text': 'The utility model relates to an unm...</td>\n      <td>20211123</td>\n      <td>[ZHANG ANZHI, ZHANG WANYONG, HUANG HUIYONG, XU...</td>\n      <td>[{'code': 'Y02E10/50', 'inventive': False, 'fi...</td>\n      <td>Unmanned aerial vehicle hangar with function o...</td>\n      <td>The utility model relates to an unmanned air v...</td>\n      <td>[en, zh]</td>\n    </tr>\n    <tr>\n      <th>29996</th>\n      <td>CN-113690940-A</td>\n      <td>CN-202111107806-A</td>\n      <td>CN</td>\n      <td>[{'text': '一种风电供电控制方法', 'language': 'zh', 'tru...</td>\n      <td>[{'text': 'The invention provides a wind power...</td>\n      <td>20211123</td>\n      <td>[ZHANG YUCHUAN, LONG HAIYANG, TAN CUNZHEN]</td>\n      <td>[{'code': 'Y02E10/76', 'inventive': False, 'fi...</td>\n      <td>Wind power supply control method</td>\n      <td>The invention provides a wind power supply con...</td>\n      <td>[en, zh]</td>\n    </tr>\n    <tr>\n      <th>29997</th>\n      <td>CN-113683210-A</td>\n      <td>CN-202110998828-A</td>\n      <td>CN</td>\n      <td>[{'text': '一种基于无线控制的漂浮式太阳能曝气装置', 'language': '...</td>\n      <td>[{'text': '本发明公开了一种基于无线控制的漂浮式太阳能曝气装置，包括漂浮板、太阳能...</td>\n      <td>20211123</td>\n      <td>[An Zhixia]</td>\n      <td>[{'code': 'C02F2209/22', 'inventive': False, '...</td>\n      <td>Floating solar aeration device based on wirele...</td>\n      <td>The invention discloses a floating solar aerat...</td>\n      <td>[zh, en]</td>\n    </tr>\n    <tr>\n      <th>29998</th>\n      <td>CN-113683210-A</td>\n      <td>CN-202110998828-A</td>\n      <td>CN</td>\n      <td>[{'text': '一种基于无线控制的漂浮式太阳能曝气装置', 'language': '...</td>\n      <td>[{'text': '本发明公开了一种基于无线控制的漂浮式太阳能曝气装置，包括漂浮板、太阳能...</td>\n      <td>20211123</td>\n      <td>[An Zhixia]</td>\n      <td>[{'code': 'C02F2209/22', 'inventive': False, '...</td>\n      <td>Floating solar aeration device based on wirele...</td>\n      <td>The invention discloses a floating solar aerat...</td>\n      <td>[zh, en]</td>\n    </tr>\n    <tr>\n      <th>29999</th>\n      <td>CN-113682495-A</td>\n      <td>CN-202110997949-A</td>\n      <td>CN</td>\n      <td>[{'text': 'Space film satellite integrating co...</td>\n      <td>[{'text': 'The invention discloses a space fil...</td>\n      <td>20211123</td>\n      <td>[FENG XIANGCHAO, WANG PENGFEI, LI ZHEN, HE ZEP...</td>\n      <td>[{'code': 'B64G4/00', 'inventive': True, 'firs...</td>\n      <td>Space film satellite integrating communication...</td>\n      <td>The invention discloses a space film satellite...</td>\n      <td>[en, zh]</td>\n    </tr>\n  </tbody>\n</table>\n<p>30000 rows × 11 columns</p>\n</div>"
     },
     "execution_count": 22,
     "metadata": {},
     "output_type": "execute_result"
    }
   ],
   "source": [
    "#Extract the english titles and abstracts (there are often two translations)\n",
    "def filter_english(texts):\n",
    "    for item in texts:\n",
    "        if item[\"language\"] == \"en\":\n",
    "            return item[\"text\"]\n",
    "    return None  # Return None if no English text is found\n",
    "\n",
    "# Apply the function to the \"title_localized\" column to extract English text\n",
    "df_google_patents['title'] = df_google_patents['title_localized'].apply(filter_english)\n",
    "df_google_patents['abstract'] = df_google_patents['abstract_localized'].apply(filter_english)\n",
    "\n",
    "# Also extracting the languages\n",
    "df_google_patents['abstract_lang'] = df_google_patents['abstract_localized'].apply(lambda x: [item['language'] for item in x])\n",
    "\n",
    "df_google_patents"
   ],
   "metadata": {
    "collapsed": false,
    "ExecuteTime": {
     "end_time": "2024-04-27T16:02:41.816219600Z",
     "start_time": "2024-04-27T16:02:41.722057800Z"
    }
   },
   "id": "b95fb555832a4b49"
  },
  {
   "cell_type": "code",
   "execution_count": 12,
   "id": "7523585e-34c5-4194-8ce1-da68d4a750a0",
   "metadata": {
    "ExecuteTime": {
     "end_time": "2024-04-27T15:56:15.446959900Z",
     "start_time": "2024-04-27T15:56:15.395291300Z"
    }
   },
   "outputs": [
    {
     "name": "stdout",
     "output_type": "stream",
     "text": [
      "<class 'pandas.core.frame.DataFrame'>\n",
      "RangeIndex: 30000 entries, 0 to 29999\n",
      "Data columns (total 10 columns):\n",
      " #   Column              Non-Null Count  Dtype \n",
      "---  ------              --------------  ----- \n",
      " 0   publication_number  30000 non-null  object\n",
      " 1   application_number  30000 non-null  object\n",
      " 2   country_code        30000 non-null  object\n",
      " 3   title_localized     30000 non-null  object\n",
      " 4   abstract_localized  30000 non-null  object\n",
      " 5   publication_date    30000 non-null  int64 \n",
      " 6   inventor            30000 non-null  object\n",
      " 7   cpc                 30000 non-null  object\n",
      " 8   title               30000 non-null  object\n",
      " 9   abstract            29926 non-null  object\n",
      "dtypes: int64(1), object(9)\n",
      "memory usage: 2.3+ MB\n"
     ]
    }
   ],
   "source": [
    "# keep only necessary rows\n",
    "df_google_patents.info()"
   ]
  },
  {
   "cell_type": "markdown",
   "id": "71bd0baa-6b1c-4464-b8d6-7ac9d5490294",
   "metadata": {},
   "source": [
    "## Drop unnecessary columns"
   ]
  },
  {
   "cell_type": "code",
   "execution_count": 13,
   "id": "9198efd9-bb36-418d-b863-0eada0935ed9",
   "metadata": {
    "ExecuteTime": {
     "end_time": "2024-04-27T15:56:15.540547600Z",
     "start_time": "2024-04-27T15:56:15.446959900Z"
    }
   },
   "outputs": [
    {
     "data": {
      "text/plain": "array([list([{'code': 'H02M7/5395', 'inventive': True, 'first': False, 'tree': []}, {'code': 'H02J3/32', 'inventive': False, 'first': False, 'tree': []}, {'code': 'H02M1/32', 'inventive': True, 'first': False, 'tree': []}, {'code': 'H02J1/10', 'inventive': True, 'first': False, 'tree': []}, {'code': 'H02J3/381', 'inventive': True, 'first': False, 'tree': []}, {'code': 'H02M7/493', 'inventive': True, 'first': True, 'tree': []}, {'code': 'H02J2300/24', 'inventive': False, 'first': False, 'tree': []}, {'code': 'H02J2300/30', 'inventive': False, 'first': False, 'tree': []}]),\n       list([{'code': 'H02S40/38', 'inventive': True, 'first': False, 'tree': []}, {'code': 'G01R22/061', 'inventive': True, 'first': False, 'tree': []}, {'code': 'B60L53/51', 'inventive': True, 'first': False, 'tree': []}, {'code': 'H02S40/32', 'inventive': True, 'first': True, 'tree': []}]),\n       list([{'code': 'F03D7/0276', 'inventive': True, 'first': True, 'tree': []}, {'code': 'F03D7/0296', 'inventive': True, 'first': False, 'tree': []}, {'code': 'F03D7/028', 'inventive': True, 'first': False, 'tree': []}]),\n       list([{'code': 'F03D7/0276', 'inventive': True, 'first': True, 'tree': []}, {'code': 'F03D7/0296', 'inventive': True, 'first': False, 'tree': []}, {'code': 'F03D7/028', 'inventive': True, 'first': False, 'tree': []}]),\n       list([{'code': 'F24S50/00', 'inventive': True, 'first': False, 'tree': []}, {'code': 'F01K7/165', 'inventive': True, 'first': True, 'tree': []}, {'code': 'F01K11/02', 'inventive': True, 'first': False, 'tree': []}, {'code': 'G05B17/02', 'inventive': True, 'first': False, 'tree': []}])],\n      dtype=object)"
     },
     "execution_count": 13,
     "metadata": {},
     "output_type": "execute_result"
    }
   ],
   "source": [
    "# not sure about cpc-column. Suppose we drop it?\n",
    "# PB I think we should drop it as well.\n",
    "df_google_patents.cpc.values[:5]"
   ]
  },
  {
   "cell_type": "code",
   "execution_count": 14,
   "id": "746162fc-f87c-4aeb-a712-775eb5221ac1",
   "metadata": {
    "ExecuteTime": {
     "end_time": "2024-04-27T15:56:15.574304200Z",
     "start_time": "2024-04-27T15:56:15.461970200Z"
    }
   },
   "outputs": [
    {
     "data": {
      "text/plain": "      publication_number application_number country_code  publication_date  \\\n0       US-2022239235-A1  US-202217717397-A           US          20220728   \n1       US-2022239251-A1  US-202217580956-A           US          20220728   \n2          EP-4033090-A1      EP-21152924-A           EP          20220727   \n3          EP-4033090-A1      EP-21152924-A           EP          20220727   \n4         US-11396827-B2  US-202117606042-A           US          20220726   \n...                  ...                ...          ...               ...   \n29995     CN-214835218-U  CN-202121309411-U           CN          20211123   \n29996     CN-113690940-A  CN-202111107806-A           CN          20211123   \n29997     CN-113683210-A  CN-202110998828-A           CN          20211123   \n29998     CN-113683210-A  CN-202110998828-A           CN          20211123   \n29999     CN-113682495-A  CN-202110997949-A           CN          20211123   \n\n                                                inventor  \\\n0                                                     []   \n1                                                     []   \n2      [Schaper, Ulf, von Aswege, Enno, Gerke Funcke,...   \n3      [Schaper, Ulf, von Aswege, Enno, Gerke Funcke,...   \n4                                                     []   \n...                                                  ...   \n29995  [ZHANG ANZHI, ZHANG WANYONG, HUANG HUIYONG, XU...   \n29996         [ZHANG YUCHUAN, LONG HAIYANG, TAN CUNZHEN]   \n29997                                        [An Zhixia]   \n29998                                        [An Zhixia]   \n29999  [FENG XIANGCHAO, WANG PENGFEI, LI ZHEN, HE ZEP...   \n\n                                                   title  \\\n0      Adaptable DC-AC Inverter Drive System and Oper...   \n1      System for providing the energy from a single ...   \n2            Method for controlling a wind energy system   \n3            Method for controlling a wind energy system   \n4      Control method for optimizing solar-to-power e...   \n...                                                  ...   \n29995  Unmanned aerial vehicle hangar with function o...   \n29996                   Wind power supply control method   \n29997  Floating solar aeration device based on wirele...   \n29998  Floating solar aeration device based on wirele...   \n29999  Space film satellite integrating communication...   \n\n                                                abstract  \n0      Disclosed is an adaptable DC-AC inverter syste...  \n1      In accordance with an example embodiment, a so...  \n2                                                   None  \n3                                                   None  \n4      A control method for optimizing a solar-to-pow...  \n...                                                  ...  \n29995  The utility model relates to an unmanned air v...  \n29996  The invention provides a wind power supply con...  \n29997  The invention discloses a floating solar aerat...  \n29998  The invention discloses a floating solar aerat...  \n29999  The invention discloses a space film satellite...  \n\n[30000 rows x 7 columns]",
      "text/html": "<div>\n<style scoped>\n    .dataframe tbody tr th:only-of-type {\n        vertical-align: middle;\n    }\n\n    .dataframe tbody tr th {\n        vertical-align: top;\n    }\n\n    .dataframe thead th {\n        text-align: right;\n    }\n</style>\n<table border=\"1\" class=\"dataframe\">\n  <thead>\n    <tr style=\"text-align: right;\">\n      <th></th>\n      <th>publication_number</th>\n      <th>application_number</th>\n      <th>country_code</th>\n      <th>publication_date</th>\n      <th>inventor</th>\n      <th>title</th>\n      <th>abstract</th>\n    </tr>\n  </thead>\n  <tbody>\n    <tr>\n      <th>0</th>\n      <td>US-2022239235-A1</td>\n      <td>US-202217717397-A</td>\n      <td>US</td>\n      <td>20220728</td>\n      <td>[]</td>\n      <td>Adaptable DC-AC Inverter Drive System and Oper...</td>\n      <td>Disclosed is an adaptable DC-AC inverter syste...</td>\n    </tr>\n    <tr>\n      <th>1</th>\n      <td>US-2022239251-A1</td>\n      <td>US-202217580956-A</td>\n      <td>US</td>\n      <td>20220728</td>\n      <td>[]</td>\n      <td>System for providing the energy from a single ...</td>\n      <td>In accordance with an example embodiment, a so...</td>\n    </tr>\n    <tr>\n      <th>2</th>\n      <td>EP-4033090-A1</td>\n      <td>EP-21152924-A</td>\n      <td>EP</td>\n      <td>20220727</td>\n      <td>[Schaper, Ulf, von Aswege, Enno, Gerke Funcke,...</td>\n      <td>Method for controlling a wind energy system</td>\n      <td>None</td>\n    </tr>\n    <tr>\n      <th>3</th>\n      <td>EP-4033090-A1</td>\n      <td>EP-21152924-A</td>\n      <td>EP</td>\n      <td>20220727</td>\n      <td>[Schaper, Ulf, von Aswege, Enno, Gerke Funcke,...</td>\n      <td>Method for controlling a wind energy system</td>\n      <td>None</td>\n    </tr>\n    <tr>\n      <th>4</th>\n      <td>US-11396827-B2</td>\n      <td>US-202117606042-A</td>\n      <td>US</td>\n      <td>20220726</td>\n      <td>[]</td>\n      <td>Control method for optimizing solar-to-power e...</td>\n      <td>A control method for optimizing a solar-to-pow...</td>\n    </tr>\n    <tr>\n      <th>...</th>\n      <td>...</td>\n      <td>...</td>\n      <td>...</td>\n      <td>...</td>\n      <td>...</td>\n      <td>...</td>\n      <td>...</td>\n    </tr>\n    <tr>\n      <th>29995</th>\n      <td>CN-214835218-U</td>\n      <td>CN-202121309411-U</td>\n      <td>CN</td>\n      <td>20211123</td>\n      <td>[ZHANG ANZHI, ZHANG WANYONG, HUANG HUIYONG, XU...</td>\n      <td>Unmanned aerial vehicle hangar with function o...</td>\n      <td>The utility model relates to an unmanned air v...</td>\n    </tr>\n    <tr>\n      <th>29996</th>\n      <td>CN-113690940-A</td>\n      <td>CN-202111107806-A</td>\n      <td>CN</td>\n      <td>20211123</td>\n      <td>[ZHANG YUCHUAN, LONG HAIYANG, TAN CUNZHEN]</td>\n      <td>Wind power supply control method</td>\n      <td>The invention provides a wind power supply con...</td>\n    </tr>\n    <tr>\n      <th>29997</th>\n      <td>CN-113683210-A</td>\n      <td>CN-202110998828-A</td>\n      <td>CN</td>\n      <td>20211123</td>\n      <td>[An Zhixia]</td>\n      <td>Floating solar aeration device based on wirele...</td>\n      <td>The invention discloses a floating solar aerat...</td>\n    </tr>\n    <tr>\n      <th>29998</th>\n      <td>CN-113683210-A</td>\n      <td>CN-202110998828-A</td>\n      <td>CN</td>\n      <td>20211123</td>\n      <td>[An Zhixia]</td>\n      <td>Floating solar aeration device based on wirele...</td>\n      <td>The invention discloses a floating solar aerat...</td>\n    </tr>\n    <tr>\n      <th>29999</th>\n      <td>CN-113682495-A</td>\n      <td>CN-202110997949-A</td>\n      <td>CN</td>\n      <td>20211123</td>\n      <td>[FENG XIANGCHAO, WANG PENGFEI, LI ZHEN, HE ZEP...</td>\n      <td>Space film satellite integrating communication...</td>\n      <td>The invention discloses a space film satellite...</td>\n    </tr>\n  </tbody>\n</table>\n<p>30000 rows × 7 columns</p>\n</div>"
     },
     "execution_count": 14,
     "metadata": {},
     "output_type": "execute_result"
    }
   ],
   "source": [
    "df_google_patents.drop(columns=['cpc', 'abstract_localized', 'title_localized'], inplace=True)\n",
    "df_google_patents"
   ]
  },
  {
   "cell_type": "markdown",
   "id": "7c5f2722-5c38-4886-9ed3-b4e37c3304f8",
   "metadata": {},
   "source": [
    "## Parse date column"
   ]
  },
  {
   "cell_type": "code",
   "execution_count": 15,
   "id": "da32da9f-4c96-4fcc-9609-792cfd595c05",
   "metadata": {
    "ExecuteTime": {
     "end_time": "2024-04-27T15:56:15.641082300Z",
     "start_time": "2024-04-27T15:56:15.493658200Z"
    }
   },
   "outputs": [
    {
     "name": "stdout",
     "output_type": "stream",
     "text": [
      "<class 'pandas.core.frame.DataFrame'>\n",
      "RangeIndex: 30000 entries, 0 to 29999\n",
      "Data columns (total 7 columns):\n",
      " #   Column              Non-Null Count  Dtype         \n",
      "---  ------              --------------  -----         \n",
      " 0   publication_number  30000 non-null  object        \n",
      " 1   application_number  30000 non-null  object        \n",
      " 2   country_code        30000 non-null  object        \n",
      " 3   publication_date    30000 non-null  datetime64[ns]\n",
      " 4   inventor            30000 non-null  object        \n",
      " 5   title               30000 non-null  object        \n",
      " 6   abstract            29926 non-null  object        \n",
      "dtypes: datetime64[ns](1), object(6)\n",
      "memory usage: 1.6+ MB\n"
     ]
    }
   ],
   "source": [
    "# turn date into date-column\n",
    "df_google_patents.publication_date = pd.to_datetime(df_google_patents.publication_date, format=\"%Y%m%d\")\n",
    "df_google_patents.info()"
   ]
  },
  {
   "cell_type": "markdown",
   "id": "00314fbb-7a2d-49cc-93d8-bdc842969ebf",
   "metadata": {},
   "source": [
    "## Check for duplicates"
   ]
  },
  {
   "cell_type": "code",
   "execution_count": 16,
   "id": "c23b44c1-5d90-41a9-a3e3-9eda3455abed",
   "metadata": {
    "ExecuteTime": {
     "end_time": "2024-04-27T15:56:15.641082300Z",
     "start_time": "2024-04-27T15:56:15.524910Z"
    }
   },
   "outputs": [
    {
     "data": {
      "text/plain": "      publication_number application_number country_code publication_date  \\\n2          EP-4033090-A1      EP-21152924-A           EP       2022-07-27   \n3          EP-4033090-A1      EP-21152924-A           EP       2022-07-27   \n5         CN-114772674-A  CN-202210500131-A           CN       2022-07-22   \n6         CN-217026795-U  CN-202220668705-U           CN       2022-07-22   \n7         CN-114777546-A  CN-202210702520-A           CN       2022-07-22   \n...                  ...                ...          ...              ...   \n29991     CN-214811978-U  CN-202121614511-U           CN       2021-11-23   \n29992     CN-214811978-U  CN-202121614511-U           CN       2021-11-23   \n29997     CN-113683210-A  CN-202110998828-A           CN       2021-11-23   \n29998     CN-113683210-A  CN-202110998828-A           CN       2021-11-23   \n29999     CN-113682495-A  CN-202110997949-A           CN       2021-11-23   \n\n                                                inventor  \\\n2      [Schaper, Ulf, von Aswege, Enno, Gerke Funcke,...   \n3      [Schaper, Ulf, von Aswege, Enno, Gerke Funcke,...   \n5                                                     []   \n6                                                     []   \n7                                                     []   \n...                                                  ...   \n29991                      [ZHANG HUANBING, YE CHANGHAI]   \n29992                      [ZHANG HUANBING, YE CHANGHAI]   \n29997                                        [An Zhixia]   \n29998                                        [An Zhixia]   \n29999  [FENG XIANGCHAO, WANG PENGFEI, LI ZHEN, HE ZEP...   \n\n                                                   title  \\\n2            Method for controlling a wind energy system   \n3            Method for controlling a wind energy system   \n5      Low-carbon running saline wastewater treatment...   \n6      Water ecological remediation device convenient...   \n7      Cold and hot medium energy storage hot water a...   \n...                                                  ...   \n29991  Solar photo-thermal wood-based material harmfu...   \n29992  Solar photo-thermal wood-based material harmfu...   \n29997  Floating solar aeration device based on wirele...   \n29998  Floating solar aeration device based on wirele...   \n29999  Space film satellite integrating communication...   \n\n                                                abstract  \n2                                                   None  \n3                                                   None  \n5      The invention discloses a system and a method ...  \n6      The utility model discloses a water ecological...  \n7      The invention relates to the technical field o...  \n...                                                  ...  \n29991  The utility model discloses a device for purif...  \n29992  The utility model discloses a device for purif...  \n29997  The invention discloses a floating solar aerat...  \n29998  The invention discloses a floating solar aerat...  \n29999  The invention discloses a space film satellite...  \n\n[29912 rows x 7 columns]",
      "text/html": "<div>\n<style scoped>\n    .dataframe tbody tr th:only-of-type {\n        vertical-align: middle;\n    }\n\n    .dataframe tbody tr th {\n        vertical-align: top;\n    }\n\n    .dataframe thead th {\n        text-align: right;\n    }\n</style>\n<table border=\"1\" class=\"dataframe\">\n  <thead>\n    <tr style=\"text-align: right;\">\n      <th></th>\n      <th>publication_number</th>\n      <th>application_number</th>\n      <th>country_code</th>\n      <th>publication_date</th>\n      <th>inventor</th>\n      <th>title</th>\n      <th>abstract</th>\n    </tr>\n  </thead>\n  <tbody>\n    <tr>\n      <th>2</th>\n      <td>EP-4033090-A1</td>\n      <td>EP-21152924-A</td>\n      <td>EP</td>\n      <td>2022-07-27</td>\n      <td>[Schaper, Ulf, von Aswege, Enno, Gerke Funcke,...</td>\n      <td>Method for controlling a wind energy system</td>\n      <td>None</td>\n    </tr>\n    <tr>\n      <th>3</th>\n      <td>EP-4033090-A1</td>\n      <td>EP-21152924-A</td>\n      <td>EP</td>\n      <td>2022-07-27</td>\n      <td>[Schaper, Ulf, von Aswege, Enno, Gerke Funcke,...</td>\n      <td>Method for controlling a wind energy system</td>\n      <td>None</td>\n    </tr>\n    <tr>\n      <th>5</th>\n      <td>CN-114772674-A</td>\n      <td>CN-202210500131-A</td>\n      <td>CN</td>\n      <td>2022-07-22</td>\n      <td>[]</td>\n      <td>Low-carbon running saline wastewater treatment...</td>\n      <td>The invention discloses a system and a method ...</td>\n    </tr>\n    <tr>\n      <th>6</th>\n      <td>CN-217026795-U</td>\n      <td>CN-202220668705-U</td>\n      <td>CN</td>\n      <td>2022-07-22</td>\n      <td>[]</td>\n      <td>Water ecological remediation device convenient...</td>\n      <td>The utility model discloses a water ecological...</td>\n    </tr>\n    <tr>\n      <th>7</th>\n      <td>CN-114777546-A</td>\n      <td>CN-202210702520-A</td>\n      <td>CN</td>\n      <td>2022-07-22</td>\n      <td>[]</td>\n      <td>Cold and hot medium energy storage hot water a...</td>\n      <td>The invention relates to the technical field o...</td>\n    </tr>\n    <tr>\n      <th>...</th>\n      <td>...</td>\n      <td>...</td>\n      <td>...</td>\n      <td>...</td>\n      <td>...</td>\n      <td>...</td>\n      <td>...</td>\n    </tr>\n    <tr>\n      <th>29991</th>\n      <td>CN-214811978-U</td>\n      <td>CN-202121614511-U</td>\n      <td>CN</td>\n      <td>2021-11-23</td>\n      <td>[ZHANG HUANBING, YE CHANGHAI]</td>\n      <td>Solar photo-thermal wood-based material harmfu...</td>\n      <td>The utility model discloses a device for purif...</td>\n    </tr>\n    <tr>\n      <th>29992</th>\n      <td>CN-214811978-U</td>\n      <td>CN-202121614511-U</td>\n      <td>CN</td>\n      <td>2021-11-23</td>\n      <td>[ZHANG HUANBING, YE CHANGHAI]</td>\n      <td>Solar photo-thermal wood-based material harmfu...</td>\n      <td>The utility model discloses a device for purif...</td>\n    </tr>\n    <tr>\n      <th>29997</th>\n      <td>CN-113683210-A</td>\n      <td>CN-202110998828-A</td>\n      <td>CN</td>\n      <td>2021-11-23</td>\n      <td>[An Zhixia]</td>\n      <td>Floating solar aeration device based on wirele...</td>\n      <td>The invention discloses a floating solar aerat...</td>\n    </tr>\n    <tr>\n      <th>29998</th>\n      <td>CN-113683210-A</td>\n      <td>CN-202110998828-A</td>\n      <td>CN</td>\n      <td>2021-11-23</td>\n      <td>[An Zhixia]</td>\n      <td>Floating solar aeration device based on wirele...</td>\n      <td>The invention discloses a floating solar aerat...</td>\n    </tr>\n    <tr>\n      <th>29999</th>\n      <td>CN-113682495-A</td>\n      <td>CN-202110997949-A</td>\n      <td>CN</td>\n      <td>2021-11-23</td>\n      <td>[FENG XIANGCHAO, WANG PENGFEI, LI ZHEN, HE ZEP...</td>\n      <td>Space film satellite integrating communication...</td>\n      <td>The invention discloses a space film satellite...</td>\n    </tr>\n  </tbody>\n</table>\n<p>29912 rows × 7 columns</p>\n</div>"
     },
     "execution_count": 16,
     "metadata": {},
     "output_type": "execute_result"
    }
   ],
   "source": [
    "# abstract is propably the most important column, we check its contents\n",
    "df_google_patents[df_google_patents.duplicated(subset=['abstract'], keep=False)]"
   ]
  },
  {
   "cell_type": "code",
   "execution_count": 17,
   "id": "b6c6863b-c539-48c2-8755-e779dd0e288e",
   "metadata": {
    "ExecuteTime": {
     "end_time": "2024-04-27T15:56:15.641082300Z",
     "start_time": "2024-04-27T15:56:15.574304200Z"
    }
   },
   "outputs": [
    {
     "data": {
      "text/plain": "      publication_number application_number country_code publication_date  \\\n0       US-2022239235-A1  US-202217717397-A           US       2022-07-28   \n1       US-2022239251-A1  US-202217580956-A           US       2022-07-28   \n2          EP-4033090-A1      EP-21152924-A           EP       2022-07-27   \n4         US-11396827-B2  US-202117606042-A           US       2022-07-26   \n5         CN-114772674-A  CN-202210500131-A           CN       2022-07-22   \n...                  ...                ...          ...              ...   \n29993     CN-214850044-U  CN-202120980740-U           CN       2021-11-23   \n29994     CN-214840532-U  CN-202121225269-U           CN       2021-11-23   \n29995     CN-214835218-U  CN-202121309411-U           CN       2021-11-23   \n29996     CN-113690940-A  CN-202111107806-A           CN       2021-11-23   \n29997     CN-113683210-A  CN-202110998828-A           CN       2021-11-23   \n\n                                                inventor  \\\n0                                                     []   \n1                                                     []   \n2      [Schaper, Ulf, von Aswege, Enno, Gerke Funcke,...   \n4                                                     []   \n5                                                     []   \n...                                                  ...   \n29993                              [WANG HAI, WANG YANG]   \n29994  [Gao Zhelu, Dai Jiangyue, LIU ZIYI, YAN CONGQI...   \n29995  [ZHANG ANZHI, ZHANG WANYONG, HUANG HUIYONG, XU...   \n29996         [ZHANG YUCHUAN, LONG HAIYANG, TAN CUNZHEN]   \n29997                                        [An Zhixia]   \n\n                                                   title  \\\n0      Adaptable DC-AC Inverter Drive System and Oper...   \n1      System for providing the energy from a single ...   \n2            Method for controlling a wind energy system   \n4      Control method for optimizing solar-to-power e...   \n5      Low-carbon running saline wastewater treatment...   \n...                                                  ...   \n29993  Box transformer substation capable of adjustin...   \n29994  Garden waste anaerobic fermentation coupling m...   \n29995  Unmanned aerial vehicle hangar with function o...   \n29996                   Wind power supply control method   \n29997  Floating solar aeration device based on wirele...   \n\n                                                abstract  \n0      Disclosed is an adaptable DC-AC inverter syste...  \n1      In accordance with an example embodiment, a so...  \n2                                                   None  \n4      A control method for optimizing a solar-to-pow...  \n5      The invention discloses a system and a method ...  \n...                                                  ...  \n29993  The utility model relates to a case becomes te...  \n29994  The utility model discloses a gardens discarde...  \n29995  The utility model relates to an unmanned air v...  \n29996  The invention provides a wind power supply con...  \n29997  The invention discloses a floating solar aerat...  \n\n[13200 rows x 7 columns]",
      "text/html": "<div>\n<style scoped>\n    .dataframe tbody tr th:only-of-type {\n        vertical-align: middle;\n    }\n\n    .dataframe tbody tr th {\n        vertical-align: top;\n    }\n\n    .dataframe thead th {\n        text-align: right;\n    }\n</style>\n<table border=\"1\" class=\"dataframe\">\n  <thead>\n    <tr style=\"text-align: right;\">\n      <th></th>\n      <th>publication_number</th>\n      <th>application_number</th>\n      <th>country_code</th>\n      <th>publication_date</th>\n      <th>inventor</th>\n      <th>title</th>\n      <th>abstract</th>\n    </tr>\n  </thead>\n  <tbody>\n    <tr>\n      <th>0</th>\n      <td>US-2022239235-A1</td>\n      <td>US-202217717397-A</td>\n      <td>US</td>\n      <td>2022-07-28</td>\n      <td>[]</td>\n      <td>Adaptable DC-AC Inverter Drive System and Oper...</td>\n      <td>Disclosed is an adaptable DC-AC inverter syste...</td>\n    </tr>\n    <tr>\n      <th>1</th>\n      <td>US-2022239251-A1</td>\n      <td>US-202217580956-A</td>\n      <td>US</td>\n      <td>2022-07-28</td>\n      <td>[]</td>\n      <td>System for providing the energy from a single ...</td>\n      <td>In accordance with an example embodiment, a so...</td>\n    </tr>\n    <tr>\n      <th>2</th>\n      <td>EP-4033090-A1</td>\n      <td>EP-21152924-A</td>\n      <td>EP</td>\n      <td>2022-07-27</td>\n      <td>[Schaper, Ulf, von Aswege, Enno, Gerke Funcke,...</td>\n      <td>Method for controlling a wind energy system</td>\n      <td>None</td>\n    </tr>\n    <tr>\n      <th>4</th>\n      <td>US-11396827-B2</td>\n      <td>US-202117606042-A</td>\n      <td>US</td>\n      <td>2022-07-26</td>\n      <td>[]</td>\n      <td>Control method for optimizing solar-to-power e...</td>\n      <td>A control method for optimizing a solar-to-pow...</td>\n    </tr>\n    <tr>\n      <th>5</th>\n      <td>CN-114772674-A</td>\n      <td>CN-202210500131-A</td>\n      <td>CN</td>\n      <td>2022-07-22</td>\n      <td>[]</td>\n      <td>Low-carbon running saline wastewater treatment...</td>\n      <td>The invention discloses a system and a method ...</td>\n    </tr>\n    <tr>\n      <th>...</th>\n      <td>...</td>\n      <td>...</td>\n      <td>...</td>\n      <td>...</td>\n      <td>...</td>\n      <td>...</td>\n      <td>...</td>\n    </tr>\n    <tr>\n      <th>29993</th>\n      <td>CN-214850044-U</td>\n      <td>CN-202120980740-U</td>\n      <td>CN</td>\n      <td>2021-11-23</td>\n      <td>[WANG HAI, WANG YANG]</td>\n      <td>Box transformer substation capable of adjustin...</td>\n      <td>The utility model relates to a case becomes te...</td>\n    </tr>\n    <tr>\n      <th>29994</th>\n      <td>CN-214840532-U</td>\n      <td>CN-202121225269-U</td>\n      <td>CN</td>\n      <td>2021-11-23</td>\n      <td>[Gao Zhelu, Dai Jiangyue, LIU ZIYI, YAN CONGQI...</td>\n      <td>Garden waste anaerobic fermentation coupling m...</td>\n      <td>The utility model discloses a gardens discarde...</td>\n    </tr>\n    <tr>\n      <th>29995</th>\n      <td>CN-214835218-U</td>\n      <td>CN-202121309411-U</td>\n      <td>CN</td>\n      <td>2021-11-23</td>\n      <td>[ZHANG ANZHI, ZHANG WANYONG, HUANG HUIYONG, XU...</td>\n      <td>Unmanned aerial vehicle hangar with function o...</td>\n      <td>The utility model relates to an unmanned air v...</td>\n    </tr>\n    <tr>\n      <th>29996</th>\n      <td>CN-113690940-A</td>\n      <td>CN-202111107806-A</td>\n      <td>CN</td>\n      <td>2021-11-23</td>\n      <td>[ZHANG YUCHUAN, LONG HAIYANG, TAN CUNZHEN]</td>\n      <td>Wind power supply control method</td>\n      <td>The invention provides a wind power supply con...</td>\n    </tr>\n    <tr>\n      <th>29997</th>\n      <td>CN-113683210-A</td>\n      <td>CN-202110998828-A</td>\n      <td>CN</td>\n      <td>2021-11-23</td>\n      <td>[An Zhixia]</td>\n      <td>Floating solar aeration device based on wirele...</td>\n      <td>The invention discloses a floating solar aerat...</td>\n    </tr>\n  </tbody>\n</table>\n<p>13200 rows × 7 columns</p>\n</div>"
     },
     "execution_count": 17,
     "metadata": {},
     "output_type": "execute_result"
    }
   ],
   "source": [
    "# quite some duplicates found - let's drop them\n",
    "df_google_patents.drop_duplicates(subset=['abstract'], inplace=True)\n",
    "df_google_patents"
   ]
  },
  {
   "cell_type": "markdown",
   "id": "f7c2215f-4225-4cdf-8b61-700c0b0c5ff0",
   "metadata": {},
   "source": [
    "We are left with 13'297 patents to work with."
   ]
  },
  {
   "cell_type": "markdown",
   "id": "dfe88a79-3ff4-4689-bbad-3ee301c3eaef",
   "metadata": {},
   "source": [
    "# First Overview"
   ]
  },
  {
   "cell_type": "code",
   "execution_count": 18,
   "id": "2837358d-be93-4d87-9bf1-ea13f9b646bd",
   "metadata": {
    "ExecuteTime": {
     "end_time": "2024-04-27T15:56:15.782697900Z",
     "start_time": "2024-04-27T15:56:15.603462400Z"
    }
   },
   "outputs": [
    {
     "ename": "ModuleNotFoundError",
     "evalue": "No module named 'seaborn'",
     "output_type": "error",
     "traceback": [
      "\u001B[1;31m---------------------------------------------------------------------------\u001B[0m",
      "\u001B[1;31mModuleNotFoundError\u001B[0m                       Traceback (most recent call last)",
      "Cell \u001B[1;32mIn[18], line 1\u001B[0m\n\u001B[1;32m----> 1\u001B[0m \u001B[38;5;28;01mimport\u001B[39;00m \u001B[38;5;21;01mseaborn\u001B[39;00m \u001B[38;5;28;01mas\u001B[39;00m \u001B[38;5;21;01msns\u001B[39;00m\n\u001B[0;32m      2\u001B[0m \u001B[38;5;28;01mimport\u001B[39;00m \u001B[38;5;21;01mmatplotlib\u001B[39;00m\u001B[38;5;21;01m.\u001B[39;00m\u001B[38;5;21;01mpyplot\u001B[39;00m \u001B[38;5;28;01mas\u001B[39;00m \u001B[38;5;21;01mplt\u001B[39;00m\n",
      "\u001B[1;31mModuleNotFoundError\u001B[0m: No module named 'seaborn'"
     ]
    }
   ],
   "source": [
    "import seaborn as sns\n",
    "import matplotlib.pyplot as plt"
   ]
  },
  {
   "cell_type": "code",
   "execution_count": null,
   "id": "ea9f026e-c1e3-49e8-b059-aa0237198c32",
   "metadata": {
    "ExecuteTime": {
     "start_time": "2024-04-27T15:56:15.719630300Z"
    }
   },
   "outputs": [],
   "source": [
    "# there seem to be different languages, let's check\n",
    "\n",
    "sns.countplot(\n",
    "    df_google_patents, \n",
    "    y=\"abstract_lang\", \n",
    "    order=df_google_patents['abstract_lang'].value_counts().index)\n",
    "\n",
    "plt.title(\"Which languages are used in patents?\")\n",
    "plt.xlabel(\"# of patents\")\n",
    "plt.ylabel(\"language\")\n",
    "plt.show()"
   ]
  },
  {
   "cell_type": "markdown",
   "id": "68678290-b757-4320-b20c-a3776f28abb6",
   "metadata": {},
   "source": [
    "# Text preprocessing"
   ]
  },
  {
   "cell_type": "code",
   "execution_count": null,
   "id": "00e445e5-4b07-4684-8d3d-6f610eed7095",
   "metadata": {
    "ExecuteTime": {
     "start_time": "2024-04-27T15:56:15.719630300Z"
    }
   },
   "outputs": [],
   "source": [
    "import re\n",
    "import nltk\n",
    "df_google_patents"
   ]
  },
  {
   "cell_type": "markdown",
   "id": "93fc6bb8",
   "metadata": {},
   "source": [
    "# Translate"
   ]
  },
  {
   "cell_type": "code",
   "execution_count": null,
   "outputs": [],
   "source": [
    "# PB: No longer needed?\n",
    "#from translate import Translator\n",
    "\n",
    "#import time\n",
    "## Function to translate abstract to English with retry and timeout mechanism\n",
    "#def translate_abstract(row):\n",
    "#    abstract = row['abstract']\n",
    "#    lang = row['abstract_lang']\n",
    "#    \n",
    "#    # Translate only if the language is not English\n",
    "#    if lang != 'en':\n",
    "#        max_retries = 3  # Maximum number of retries\n",
    "#        retry_delay = 2  # Delay between retries in seconds\n",
    "#        timeout = 10  # Timeout in seconds\n",
    "\n",
    "#        for _ in range(max_retries):\n",
    "#            try:\n",
    "#                translator = Translator(to_lang=\"en\", from_lang=lang, timeout=timeout)\n",
    "#                translation = translator.translate(abstract)\n",
    "#                print(translation)\n",
    "#                return translation\n",
    "#            except Exception as e:\n",
    "#                print(f\"Translation failed: {e}\")\n",
    "#                print(\"Retrying...\")\n",
    "#                time.sleep(retry_delay)  # Wait before retrying\n",
    "\n",
    "#        # If all retries fail, return the original abstract\n",
    "#        return abstract\n",
    "#    else:\n",
    "#        return abstract\n",
    "\n",
    "## Create a new DataFrame column for English translations\n",
    "#df_google_patents['english_translation'] = df_google_patents.apply(translate_abstract, axis=1)\n",
    "#df_google_patents['english_translation']"
   ],
   "metadata": {
    "collapsed": false
   },
   "id": "837cbfb6fed764af"
  },
  {
   "cell_type": "markdown",
   "id": "aaecec09",
   "metadata": {},
   "source": [
    "# Tokenize Words"
   ]
  },
  {
   "cell_type": "code",
   "execution_count": null,
   "id": "0932bda4",
   "metadata": {
    "ExecuteTime": {
     "start_time": "2024-04-27T15:56:15.719630300Z"
    }
   },
   "outputs": [],
   "source": [
    "# Function to clean and extract data\n",
    "def tokenize_column(data):\n",
    "    # Split the data based on the pattern '(extra_info)'\n",
    "    re_tokens = re.findall('[\\w]+', data)\n",
    "    # Return the first part, which is the cleaned data\n",
    "    return re_tokens\n",
    "\n",
    "df_google_patents[\"token_content\"] = df_google_patents[\"abstract\"].apply(tokenize_column)\n",
    "\n",
    "df_google_patents[\"token_content\"]"
   ]
  },
  {
   "cell_type": "markdown",
   "id": "55f92537",
   "metadata": {},
   "source": [
    "# Stopwords Removal"
   ]
  },
  {
   "cell_type": "code",
   "execution_count": null,
   "id": "82e30626",
   "metadata": {
    "ExecuteTime": {
     "start_time": "2024-04-27T15:56:15.719630300Z"
    }
   },
   "outputs": [],
   "source": [
    "from nltk.corpus import stopwords\n",
    "nltk.download('stopwords')\n",
    "\n",
    "stop_words_nltk = stopwords.words('english')\n",
    "\n",
    "# Function to remove the stopwords\n",
    "def stopwords_removal(data):\n",
    "    # Split the data based on the pattern '(extra_info)'\n",
    "    filtered_stopwords = []\n",
    "    for word in data:\n",
    "        if word.lower() not in stop_words_nltk:\n",
    "            filtered_stopwords.append(word)\n",
    "        else:\n",
    "            pass\n",
    "\n",
    "    return filtered_stopwords\n",
    "\n",
    "# Apply stopwords removal function to the 'content' column\n",
    "df_google_patents[\"token_content\"] = df_google_patents[\"token_content\"].apply(stopwords_removal)\n",
    "\n",
    "print(len(df_google_patents[\"token_content\"] ), df_google_patents[\"token_content\"] )"
   ]
  },
  {
   "cell_type": "markdown",
   "id": "2280e404",
   "metadata": {},
   "source": [
    "# Lemmatization"
   ]
  },
  {
   "cell_type": "code",
   "execution_count": null,
   "id": "09981e6f",
   "metadata": {
    "ExecuteTime": {
     "start_time": "2024-04-27T15:56:15.719630300Z"
    }
   },
   "outputs": [],
   "source": [
    "from nltk.stem import WordNetLemmatizer\n",
    "nltk.download('wordnet')\n",
    "nltk.download('omw-1.4')\n",
    "\n",
    "# Initialize lemmatizer\n",
    "nltk_lemmatizer = WordNetLemmatizer()\n",
    "\n",
    "# Function to lemmatize\n",
    "def lemmatize_tokens(tokens):\n",
    "    lemmatized_tokens = [nltk_lemmatizer.lemmatize(w) for w in tokens]\n",
    "    return lemmatized_tokens\n",
    "\n",
    "df_google_patents[\"token_content\"] = df_google_patents[\"token_content\"].apply(lemmatize_tokens)\n",
    "\n",
    "# Display the DataFrame\n",
    "print(df_google_patents[\"token_content\"])"
   ]
  },
  {
   "cell_type": "code",
   "execution_count": null,
   "id": "1a34d225",
   "metadata": {
    "ExecuteTime": {
     "start_time": "2024-04-27T15:56:15.719630300Z"
    }
   },
   "outputs": [],
   "source": [
    "print(df_google_patents[\"token_content\"].iloc[0])"
   ]
  },
  {
   "cell_type": "markdown",
   "id": "9ca99bd0",
   "metadata": {},
   "source": [
    "# Adding Pos Tags"
   ]
  },
  {
   "cell_type": "code",
   "execution_count": null,
   "id": "fbcbbb8f",
   "metadata": {
    "ExecuteTime": {
     "start_time": "2024-04-27T15:56:15.719630300Z"
    }
   },
   "outputs": [],
   "source": [
    "from nltk.corpus import wordnet as wn\n",
    "from nltk import pos_tag\n",
    "from collections import defaultdict\n",
    "\n",
    "# Download NLTK resources\n",
    "nltk.download('averaged_perceptron_tagger')\n",
    "\n",
    "# Initialize default tag mapping\n",
    "tag_map_nltk = defaultdict(lambda : wn.NOUN)\n",
    "tag_map_nltk['J'] = wn.ADJ\n",
    "tag_map_nltk['V'] = wn.VERB\n",
    "tag_map_nltk['R'] = wn.ADV\n",
    "\n",
    "# Function to lemmatize tokens with POS tagging\n",
    "def adding_pos_tags(tokens):\n",
    "    nltk_lemmatizer = nltk.WordNetLemmatizer()\n",
    "    pos_tags = pos_tag(tokens)\n",
    "    lemmatized_tokens = [nltk_lemmatizer.lemmatize(token, tag_map_nltk[tag[0]]) for token, tag in pos_tags]\n",
    "    return lemmatized_tokens\n",
    "\n",
    "df_google_patents[\"token_content\"] = df_google_patents[\"token_content\"].apply(adding_pos_tags)\n",
    "\n",
    "# Display the DataFrame\n",
    "print(df_google_patents[\"token_content\"])"
   ]
  },
  {
   "cell_type": "markdown",
   "id": "82011777",
   "metadata": {},
   "source": [
    "# Stemming"
   ]
  },
  {
   "cell_type": "code",
   "execution_count": null,
   "id": "4cd195da",
   "metadata": {
    "ExecuteTime": {
     "start_time": "2024-04-27T15:56:15.735254900Z"
    }
   },
   "outputs": [],
   "source": [
    "from nltk.stem import PorterStemmer\n",
    "\n",
    "# Initialize Porter Stemmer\n",
    "ps = PorterStemmer()\n",
    "\n",
    "# Function to stem tokens\n",
    "def stem_tokens(tokens):\n",
    "    stemmed_tokens = [ps.stem(w) for w in tokens]\n",
    "    return stemmed_tokens\n",
    "\n",
    "df_google_patents[\"token_content\"] = df_google_patents[\"token_content\"].apply(stem_tokens)\n",
    "\n",
    "# Display the DataFrame\n",
    "print(df_google_patents[\"token_content\"])"
   ]
  },
  {
   "cell_type": "code",
   "execution_count": null,
   "id": "26afe6d3",
   "metadata": {
    "ExecuteTime": {
     "start_time": "2024-04-27T15:56:15.735254900Z"
    }
   },
   "outputs": [],
   "source": [
    "print(df_google_patents[\"token_content\"].iloc[0])"
   ]
  },
  {
   "cell_type": "markdown",
   "id": "0e243aab-7a6b-4540-ba78-017adc1177f0",
   "metadata": {},
   "source": [
    "# Write to disk"
   ]
  },
  {
   "cell_type": "code",
   "execution_count": null,
   "id": "109f11f2-48f0-425c-8f70-7d56f71f49da",
   "metadata": {
    "ExecuteTime": {
     "start_time": "2024-04-27T15:56:15.740531600Z"
    }
   },
   "outputs": [],
   "source": [
    "df_google_patents.info()"
   ]
  },
  {
   "cell_type": "code",
   "execution_count": null,
   "id": "57c4d44e-d3c9-4d37-b93d-35ea13262b03",
   "metadata": {
    "ExecuteTime": {
     "start_time": "2024-04-27T15:56:15.740531600Z"
    }
   },
   "outputs": [],
   "source": [
    "df_google_patents.to_csv('../data/google_patents.csv', index=False)"
   ]
  },
  {
   "cell_type": "code",
   "execution_count": null,
   "id": "d809d643-97d9-43c5-acf7-1ca3f0fa32dd",
   "metadata": {
    "ExecuteTime": {
     "start_time": "2024-04-27T15:56:15.740531600Z"
    }
   },
   "outputs": [],
   "source": []
  }
 ],
 "metadata": {
  "kernelspec": {
   "display_name": "Python 3 (ipykernel)",
   "language": "python",
   "name": "python3"
  },
  "language_info": {
   "codemirror_mode": {
    "name": "ipython",
    "version": 3
   },
   "file_extension": ".py",
   "mimetype": "text/x-python",
   "name": "python",
   "nbconvert_exporter": "python",
   "pygments_lexer": "ipython3",
   "version": "3.9.6"
  }
 },
 "nbformat": 4,
 "nbformat_minor": 5
}
